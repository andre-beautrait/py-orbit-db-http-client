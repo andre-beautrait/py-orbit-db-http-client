{
 "cells": [
  {
   "cell_type": "markdown",
   "id": "1c0583dc",
   "metadata": {
    "toc": true
   },
   "source": [
    "<h1>Table of Contents<span class=\"tocSkip\"></span></h1>\n",
    "<div class=\"toc\"><ul class=\"toc-item\"><li><span><a href=\"#OrbitDB-Test\" data-toc-modified-id=\"OrbitDB-Test-1\"><span class=\"toc-item-num\">1&nbsp;&nbsp;</span>OrbitDB Test</a></span><ul class=\"toc-item\"><li><span><a href=\"#Install-OrbitDB\" data-toc-modified-id=\"Install-OrbitDB-1.1\"><span class=\"toc-item-num\">1.1&nbsp;&nbsp;</span>Install OrbitDB</a></span></li><li><span><a href=\"#Initialize-the-client-with-the-base-URL-of-the-OrbitDB-API\" data-toc-modified-id=\"Initialize-the-client-with-the-base-URL-of-the-OrbitDB-API-1.2\"><span class=\"toc-item-num\">1.2&nbsp;&nbsp;</span>Initialize the client with the base URL of the OrbitDB API</a></span></li><li><span><a href=\"#Listing-all-databases\" data-toc-modified-id=\"Listing-all-databases-1.3\"><span class=\"toc-item-num\">1.3&nbsp;&nbsp;</span>Listing all databases</a></span></li><li><span><a href=\"#Opening-a-database-by-name\" data-toc-modified-id=\"Opening-a-database-by-name-1.4\"><span class=\"toc-item-num\">1.4&nbsp;&nbsp;</span>Opening a database by name</a></span></li><li><span><a href=\"#Add-a-record-to-the-database\" data-toc-modified-id=\"Add-a-record-to-the-database-1.5\"><span class=\"toc-item-num\">1.5&nbsp;&nbsp;</span>Add a record to the database</a></span></li><li><span><a href=\"#Retrieve-a-record-from-the-database\" data-toc-modified-id=\"Retrieve-a-record-from-the-database-1.6\"><span class=\"toc-item-num\">1.6&nbsp;&nbsp;</span>Retrieve a record from the database</a></span></li><li><span><a href=\"#Update-a-record-in-the-database\" data-toc-modified-id=\"Update-a-record-in-the-database-1.7\"><span class=\"toc-item-num\">1.7&nbsp;&nbsp;</span>Update a record in the database</a></span></li><li><span><a href=\"#Delete-a-record-from-the-database\" data-toc-modified-id=\"Delete-a-record-from-the-database-1.8\"><span class=\"toc-item-num\">1.8&nbsp;&nbsp;</span>Delete a record from the database</a></span></li><li><span><a href=\"#To-retrieve-all-the-entries-in-the-database\" data-toc-modified-id=\"To-retrieve-all-the-entries-in-the-database-1.9\"><span class=\"toc-item-num\">1.9&nbsp;&nbsp;</span>To retrieve all the entries in the database</a></span></li><li><span><a href=\"#To-query-the-database-for-specific-entries\" data-toc-modified-id=\"To-query-the-database-for-specific-entries-1.10\"><span class=\"toc-item-num\">1.10&nbsp;&nbsp;</span>To query the database for specific entries</a></span></li><li><span><a href=\"#This-will-print-a-list-of-all-the-searches-that-are-currently-running-on-the-OrbitDB-API.\" data-toc-modified-id=\"This-will-print-a-list-of-all-the-searches-that-are-currently-running-on-the-OrbitDB-API.-1.11\"><span class=\"toc-item-num\">1.11&nbsp;&nbsp;</span>This will print a list of all the searches that are currently running on the OrbitDB API.</a></span></li></ul></li></ul></div>"
   ]
  },
  {
   "cell_type": "markdown",
   "id": "f65bab3c",
   "metadata": {},
   "source": [
    "# OrbitDB Test"
   ]
  },
  {
   "cell_type": "markdown",
   "id": "d8a09e5a",
   "metadata": {},
   "source": [
    "## Install OrbitDB"
   ]
  },
  {
   "cell_type": "code",
   "execution_count": null,
   "id": "abe8087c",
   "metadata": {},
   "outputs": [],
   "source": [
    "pip install orbitdbapi"
   ]
  },
  {
   "cell_type": "markdown",
   "id": "2a8a5f2c",
   "metadata": {},
   "source": [
    "## Initialize the client with the base URL of the OrbitDB API"
   ]
  },
  {
   "cell_type": "code",
   "execution_count": null,
   "id": "22d80239",
   "metadata": {
    "ExecuteTime": {
     "end_time": "2023-01-20T13:14:34.650165Z",
     "start_time": "2023-01-20T13:14:34.309982Z"
    }
   },
   "outputs": [],
   "source": [
    "from orbitdbapi import OrbitDbAPI\n",
    "client = OrbitDbAPI(base_url='http://localhost:3000')"
   ]
  },
  {
   "cell_type": "markdown",
   "id": "baee9316",
   "metadata": {},
   "source": [
    "## Listing all databases"
   ]
  },
  {
   "cell_type": "code",
   "execution_count": null,
   "id": "cdce6b1e",
   "metadata": {},
   "outputs": [],
   "source": [
    "dbs = client.list_dbs()\n",
    "print(dbs)"
   ]
  },
  {
   "cell_type": "markdown",
   "id": "49c076f5",
   "metadata": {},
   "source": [
    "## Opening a database by name"
   ]
  },
  {
   "cell_type": "code",
   "execution_count": null,
   "id": "efc391f4",
   "metadata": {
    "ExecuteTime": {
     "end_time": "2023-01-20T13:16:15.737586Z",
     "start_time": "2023-01-20T13:16:13.630056Z"
    },
    "scrolled": true
   },
   "outputs": [],
   "source": [
    "db = client.db('mydb')"
   ]
  },
  {
   "cell_type": "markdown",
   "id": "20fe1870",
   "metadata": {},
   "source": [
    "## Add a record to the database"
   ]
  },
  {
   "cell_type": "code",
   "execution_count": null,
   "id": "9d09b430",
   "metadata": {},
   "outputs": [],
   "source": [
    "db.add({'name': 'John Doe', 'age': 30})"
   ]
  },
  {
   "cell_type": "markdown",
   "id": "d9a22fcd",
   "metadata": {},
   "source": [
    "## Retrieve a record from the database"
   ]
  },
  {
   "cell_type": "code",
   "execution_count": null,
   "id": "9b249099",
   "metadata": {},
   "outputs": [],
   "source": [
    "record = db.get('John Doe')\n",
    "print(record)"
   ]
  },
  {
   "cell_type": "markdown",
   "id": "68990bf6",
   "metadata": {},
   "source": [
    "## Update a record in the database"
   ]
  },
  {
   "cell_type": "code",
   "execution_count": null,
   "id": "f8387ae3",
   "metadata": {},
   "outputs": [],
   "source": [
    "db.update('John Doe', {'name': 'Jane Doe', 'age': 25})"
   ]
  },
  {
   "cell_type": "markdown",
   "id": "c7e31479",
   "metadata": {},
   "source": [
    "## Delete a record from the database"
   ]
  },
  {
   "cell_type": "code",
   "execution_count": null,
   "id": "3ee23b16",
   "metadata": {},
   "outputs": [],
   "source": [
    "db.delete('Jane Doe')"
   ]
  },
  {
   "cell_type": "markdown",
   "id": "688eb00d",
   "metadata": {},
   "source": [
    "## To retrieve all the entries in the database"
   ]
  },
  {
   "cell_type": "code",
   "execution_count": null,
   "id": "d2192c43",
   "metadata": {},
   "outputs": [],
   "source": [
    "entries = db.all()\n",
    "print(entries)"
   ]
  },
  {
   "cell_type": "markdown",
   "id": "d8c748e2",
   "metadata": {},
   "source": [
    "## To query the database for specific entries"
   ]
  },
  {
   "cell_type": "code",
   "execution_count": null,
   "id": "4877bc66",
   "metadata": {},
   "outputs": [],
   "source": [
    "# Retrieve all entries where 'age' is greater than 25\n",
    "result = db.query([{'$gt': {'age': 25}}])\n",
    "print(result)"
   ]
  },
  {
   "cell_type": "markdown",
   "id": "c6b92bc2",
   "metadata": {},
   "source": [
    "## This will print a list of all the searches that are currently running on the OrbitDB API."
   ]
  },
  {
   "cell_type": "code",
   "execution_count": null,
   "id": "be9dc359",
   "metadata": {},
   "outputs": [],
   "source": [
    "searches = client.searches()\n",
    "print(searches)"
   ]
  },
  {
   "cell_type": "code",
   "execution_count": null,
   "id": "b42947ba",
   "metadata": {},
   "outputs": [],
   "source": []
  }
 ],
 "metadata": {
  "hide_input": false,
  "kernelspec": {
   "display_name": "Python 3.10",
   "language": "python",
   "name": "python310"
  },
  "language_info": {
   "codemirror_mode": {
    "name": "ipython",
    "version": 3
   },
   "file_extension": ".py",
   "mimetype": "text/x-python",
   "name": "python",
   "nbconvert_exporter": "python",
   "pygments_lexer": "ipython3",
   "version": "3.10.9"
  },
  "toc": {
   "base_numbering": 1,
   "nav_menu": {},
   "number_sections": true,
   "sideBar": false,
   "skip_h1_title": false,
   "title_cell": "Table of Contents",
   "title_sidebar": "Contents",
   "toc_cell": true,
   "toc_position": {},
   "toc_section_display": false,
   "toc_window_display": false
  },
  "varInspector": {
   "cols": {
    "lenName": 16,
    "lenType": 16,
    "lenVar": 40
   },
   "kernels_config": {
    "python": {
     "delete_cmd_postfix": "",
     "delete_cmd_prefix": "del ",
     "library": "var_list.py",
     "varRefreshCmd": "print(var_dic_list())"
    },
    "r": {
     "delete_cmd_postfix": ") ",
     "delete_cmd_prefix": "rm(",
     "library": "var_list.r",
     "varRefreshCmd": "cat(var_dic_list()) "
    }
   },
   "types_to_exclude": [
    "module",
    "function",
    "builtin_function_or_method",
    "instance",
    "_Feature"
   ],
   "window_display": false
  }
 },
 "nbformat": 4,
 "nbformat_minor": 5
}
